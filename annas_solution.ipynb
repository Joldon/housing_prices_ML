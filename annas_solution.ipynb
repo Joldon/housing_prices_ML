{
 "cells": [
  {
   "cell_type": "code",
   "execution_count": 153,
   "metadata": {},
   "outputs": [],
   "source": [
    "import pandas as pd"
   ]
  },
  {
   "cell_type": "code",
   "execution_count": 211,
   "metadata": {},
   "outputs": [],
   "source": [
    "train=pd.read_csv(\"train.csv\")\n",
    "test=pd.read_csv(\"test.csv\")"
   ]
  },
  {
   "cell_type": "code",
   "execution_count": 163,
   "metadata": {},
   "outputs": [],
   "source": [
    "X=train\n",
    "y=X.pop(\"SalePrice\")"
   ]
  },
  {
   "cell_type": "code",
   "execution_count": 88,
   "metadata": {},
   "outputs": [],
   "source": [
    "from sklearn.model_selection import train_test_split\n",
    "X_train, X_test, y_train, y_test = train_test_split(X, y, test_size=0.2, random_state=101)"
   ]
  },
  {
   "cell_type": "code",
   "execution_count": 156,
   "metadata": {},
   "outputs": [],
   "source": [
    "from sklearn.impute import SimpleImputer\n",
    "from sklearn.preprocessing import MinMaxScaler, OneHotEncoder\n",
    "from sklearn.compose import ColumnTransformer\n",
    "from sklearn.ensemble import GradientBoostingRegressor\n",
    "from sklearn.metrics import mean_squared_error, r2_score\n",
    "from sklearn.pipeline import Pipeline"
   ]
  },
  {
   "cell_type": "code",
   "execution_count": 231,
   "metadata": {},
   "outputs": [
    {
     "name": "stdout",
     "output_type": "stream",
     "text": [
      "Train RMSE (Random Forest): 11794.95\n",
      "Test RMSE (Random Forest): 25092.51\n",
      "Train R^2 score (Random Forest): 0.98\n",
      "Test R^2 score (Random Forest): 0.90\n"
     ]
    }
   ],
   "source": [
    "from sklearn.ensemble import RandomForestRegressor\n",
    "\n",
    "X=train.copy().drop(columns=['TotRmsAbvGrd', 'GarageYrBlt', 'GarageArea']) \n",
    "X=X.loc[X[\"LotArea\"]<100000, :]   #OUTLIERS\n",
    "y=X.pop(\"SalePrice\")\n",
    "\n",
    "X_train_all, X_test_all, y_train_all, y_test_all = train_test_split(X, y, test_size=0.2, random_state=42)\n",
    "\n",
    "num_cols = X_train_all.select_dtypes(include=\"number\").columns\n",
    "cat_cols = X_train_all.select_dtypes(exclude=\"number\").columns\n",
    "\n",
    "num_transformer = Pipeline(steps=[\n",
    "    ('imputer', SimpleImputer(strategy='median')),\n",
    "    ('scaler',  MinMaxScaler())])\n",
    "\n",
    "cat_transformer = Pipeline(steps=[\n",
    "    ('imputer', SimpleImputer(strategy='constant', fill_value='N_A')),\n",
    "    ('onehot', OneHotEncoder(handle_unknown='ignore'))])\n",
    "\n",
    "preprocessor = ColumnTransformer(transformers=[\n",
    "    ('num', num_transformer, num_cols),\n",
    "    ('cat', cat_transformer, cat_cols)])\n",
    "\n",
    "rf_model = RandomForestRegressor(n_estimators=70, random_state=42)\n",
    "\n",
    "pipeline_rf = Pipeline(steps=[\n",
    "    ('preprocessor', preprocessor),\n",
    "    ('model', rf_model)])\n",
    "\n",
    "pipeline_rf.fit(X_train_all, y_train_all)\n",
    "\n",
    "y_train_pred_rf = pipeline_rf.predict(X_train_all)\n",
    "y_test_pred_rf = pipeline_rf.predict(X_test_all)\n",
    "\n",
    "train_rmse_rf = mean_squared_error(y_train_all, y_train_pred_rf, squared=False)\n",
    "test_rmse_rf = mean_squared_error(y_test_all, y_test_pred_rf, squared=False)\n",
    "train_r2_rf = r2_score(y_train_all, y_train_pred_rf)\n",
    "test_r2_rf = r2_score(y_test_all, y_test_pred_rf)\n",
    "\n",
    "print(f\"Train RMSE (Random Forest): {train_rmse_rf:.2f}\")\n",
    "print(f\"Test RMSE (Random Forest): {test_rmse_rf:.2f}\")\n",
    "print(f\"Train R^2 score (Random Forest): {train_r2_rf:.2f}\")\n",
    "print(f\"Test R^2 score (Random Forest): {test_r2_rf:.2f}\")\n",
    "\n",
    "#n_estimators=100, random_state=42  28974.05   25092 70n-estim"
   ]
  },
  {
   "cell_type": "code",
   "execution_count": 51,
   "metadata": {},
   "outputs": [],
   "source": [
    "test[\"SalePrice\"]=pipeline_rf.predict(test)\n",
    "new=test[[\"Id\", \"SalePrice\"]]\n",
    "new.to_csv(\"first_try.csv\", index=False)"
   ]
  },
  {
   "cell_type": "code",
   "execution_count": 232,
   "metadata": {},
   "outputs": [
    {
     "name": "stdout",
     "output_type": "stream",
     "text": [
      "Train RMSLE: 0.06176\n",
      "Test RMSLE: 0.14540\n"
     ]
    }
   ],
   "source": [
    "import numpy as np\n",
    "\n",
    "y_train_pred_all_log = np.log(y_train_pred_rf)\n",
    "y_test_pred_all_log = np.log(y_test_pred_rf)\n",
    "y_train_all_log = np.log(y_train)\n",
    "y_test_all_log = np.log(y_test)\n",
    "\n",
    "from sklearn.metrics import mean_squared_error\n",
    "\n",
    "train_rmsle_all = np.sqrt(mean_squared_error(y_train_all_log, y_train_pred_all_log))\n",
    "test_rmsle_all = np.sqrt(mean_squared_error(y_test_all_log, y_test_pred_all_log))\n",
    "\n",
    "print(f\"Train RMSLE: {train_rmsle_all:.5f}\")\n",
    "print(f\"Test RMSLE: {test_rmsle_all:.5f}\")"
   ]
  },
  {
   "cell_type": "code",
   "execution_count": 233,
   "metadata": {},
   "outputs": [
    {
     "name": "stdout",
     "output_type": "stream",
     "text": [
      "Train RMSE: 0.00\n",
      "Test RMSE: 33407.04\n",
      "Train R^2 score: 1.00\n",
      "Test R^2 score: 0.82\n"
     ]
    }
   ],
   "source": [
    "from sklearn.neighbors import KNeighborsRegressor\n",
    "\n",
    "knn_model = KNeighborsRegressor(p=1, n_neighbors=7, weights='distance')\n",
    "\n",
    "pipeline = Pipeline(steps=[\n",
    "    ('preprocessor', preprocessor),\n",
    "    ('model', knn_model)])\n",
    "\n",
    "pipeline.fit(X_train_all, y_train_all)\n",
    "\n",
    "y_train_pred_all = pipeline.predict(X_train_all)\n",
    "y_test_pred_all = pipeline.predict(X_test_all)\n",
    "\n",
    "train_rmse_all = mean_squared_error(y_train_all, y_train_pred_all, squared=False)\n",
    "test_rmse_all = mean_squared_error(y_test_all, y_test_pred_all, squared=False)\n",
    "train_r2_all = r2_score(y_train_all, y_train_pred_all)\n",
    "test_r2_all = r2_score(y_test_all, y_test_pred_all)\n",
    "\n",
    "print(f\"Train RMSE: {train_rmse_all:.2f}\")\n",
    "print(f\"Test RMSE: {test_rmse_all:.2f}\")\n",
    "print(f\"Train R^2 score: {train_r2_all:.2f}\")\n",
    "print(f\"Test R^2 score: {test_r2_all:.2f}\")"
   ]
  },
  {
   "cell_type": "code",
   "execution_count": 239,
   "metadata": {},
   "outputs": [
    {
     "name": "stdout",
     "output_type": "stream",
     "text": [
      "Train RMSE: 0.00\n",
      "Test RMSE: 33407.04\n",
      "Train R^2 score: 1.00\n",
      "Test R^2 score: 0.82\n",
      "Best parameters: {'model__n_neighbors': 7, 'model__p': 1, 'model__weights': 'distance'} 0.7181809440303135\n"
     ]
    }
   ],
   "source": [
    "from sklearn.model_selection import GridSearchCV\n",
    "\n",
    "knn_model = KNeighborsRegressor(weights='distance')\n",
    "\n",
    "pipeline = Pipeline(steps=[\n",
    "    ('preprocessor', preprocessor),\n",
    "    ('model', knn_model)])\n",
    "\n",
    "param_grid = {\n",
    "    'model__n_neighbors':[3, 5, 7, 9] ,   # [7, 11, 12, 13]\n",
    "    'model__weights': ['uniform', 'distance'],\n",
    "    'model__p': [1, 2]\n",
    "}\n",
    "\n",
    "grid_search = GridSearchCV(pipeline, param_grid=param_grid, cv=5, n_jobs=-1)\n",
    "\n",
    "grid_search.fit(X_train_all, y_train_all)\n",
    "\n",
    "y_train_pred_all = grid_search.predict(X_train_all)\n",
    "y_test_pred_all = grid_search.predict(X_test_all)\n",
    "\n",
    "train_rmse_all = mean_squared_error(y_train_all, y_train_pred_all, squared=False)\n",
    "test_rmse_all = mean_squared_error(y_test_all, y_test_pred_all, squared=False)\n",
    "train_r2_all = r2_score(y_train_all, y_train_pred_all)\n",
    "test_r2_all = r2_score(y_test_all, y_test_pred_all)\n",
    "\n",
    "print(f\"Train RMSE: {train_rmse_all:.2f}\")\n",
    "print(f\"Test RMSE: {test_rmse_all:.2f}\")\n",
    "print(f\"Train R^2 score: {train_r2_all:.2f}\")\n",
    "print(f\"Test R^2 score: {test_r2_all:.2f}\")\n",
    "print(\"Best parameters:\", grid_search.best_params_)"
   ]
  },
  {
   "cell_type": "code",
   "execution_count": 218,
   "metadata": {},
   "outputs": [
    {
     "name": "stdout",
     "output_type": "stream",
     "text": [
      "Train RMSE: 2535.53\n",
      "Test RMSE: 22234.54\n",
      "Train R^2 score: 0.99897\n",
      "Test R^2 score: 0.92201\n"
     ]
    }
   ],
   "source": [
    "X=train.drop(columns=[\"Id\",'TotRmsAbvGrd', 'GarageYrBlt', 'GarageArea'])  #'TotRmsAbvGrd', 'GarageYrBlt', 'GarageArea']\n",
    "X=X.loc[X[\"LotArea\"]<100000, :]\n",
    "y=X.pop(\"SalePrice\")\n",
    "\n",
    "\n",
    "X_train, X_test, y_train, y_test = train_test_split(X, y, test_size=0.2, random_state=42)\n",
    "\n",
    "num_cols = X_train.select_dtypes(include=\"number\").columns\n",
    "cat_cols = X_train.select_dtypes(exclude=\"number\").columns\n",
    "\n",
    "num_transformer = Pipeline(steps=[\n",
    "    ('imputer', SimpleImputer(strategy='median')),\n",
    "    ('scaler',  MinMaxScaler())])\n",
    "\n",
    "cat_transformer = Pipeline(steps=[\n",
    "    ('imputer', SimpleImputer(strategy='constant', fill_value='N_A')),\n",
    "    ('onehot', OneHotEncoder(handle_unknown='ignore'))])\n",
    "\n",
    "preprocessor = ColumnTransformer(transformers=[\n",
    "    ('num', num_transformer, num_cols),\n",
    "    ('cat', cat_transformer, cat_cols)])\n",
    "\n",
    "gbt_model = GradientBoostingRegressor(loss='squared_error', \n",
    "                                      learning_rate=0.075, \n",
    "                                      max_depth=3, \n",
    "                                      n_estimators=1500, \n",
    "                                      random_state=42)\n",
    "\n",
    "pipeline_gbt = Pipeline(steps=[\n",
    "    ('preprocessor', preprocessor),\n",
    "    ('model', gbt_model)])\n",
    "\n",
    "pipeline_gbt.fit(X_train, y_train)\n",
    "\n",
    "y_train_pred = pipeline_gbt.predict(X_train)\n",
    "y_test_pred = pipeline_gbt.predict(X_test)\n",
    "\n",
    "train_rmse_gbt = mean_squared_error(y_train, y_train_pred, squared=False)\n",
    "test_rmse_gbt = mean_squared_error(y_test, y_test_pred, squared=False)\n",
    "train_r2_gbt = r2_score(y_train, y_train_pred)\n",
    "test_r2_gbt = r2_score(y_test, y_test_pred)\n",
    "\n",
    "print(f\"Train RMSE: {train_rmse_gbt:.2f}\")\n",
    "print(f\"Test RMSE: {test_rmse_gbt:.2f}\")\n",
    "print(f\"Train R^2 score: {train_r2_gbt:.5f}\")\n",
    "print(f\"Test R^2 score: {test_r2_gbt:.5f}\")    #25913.64   with feature_Selection   (#1500-25913.64)\n",
    "# 19825.33, 0.91403 with LA < 70 000\n",
    "# 21984.52 , 0.92375 with LA < 100 000\n",
    "# 21115.91, 0.91914 with LA < 150 000\n",
    "\n",
    "# Train RMSE: 2386.47\n",
    "# Test RMSE: 22083.38\n",
    "# Train R^2 score: 0.99909\n",
    "# Test R^2 score: 0.92306"
   ]
  },
  {
   "cell_type": "code",
   "execution_count": 217,
   "metadata": {},
   "outputs": [],
   "source": [
    "test[\"SalePrice\"]=pipeline_gbt.predict(test)\n",
    "new=test[[\"Id\", \"SalePrice\"]]\n",
    "new.to_csv(\"third_try.csv\", index=False)"
   ]
  },
  {
   "cell_type": "code",
   "execution_count": 207,
   "metadata": {},
   "outputs": [
    {
     "data": {
      "image/png": "[encoded data removed]",
      "text/plain": [
       "<Figure size 700x400 with 1 Axes>"
      ]
     },
     "metadata": {},
     "output_type": "display_data"
    }
   ],
   "source": [
    "import matplotlib.pyplot as plt\n",
    "import seaborn as sns\n",
    "\n",
    "plt.figure(figsize=(7, 4))\n",
    "sns.scatterplot(data=train, x='LotArea', y='SalePrice')   #GrLivArea\n",
    "plt.title('Relation between SalePrice of the House - LotArea')\n",
    "plt.ylabel('Price ($)')\n",
    "sns.despine()"
   ]
  },
  {
   "cell_type": "code",
   "execution_count": 189,
   "metadata": {},
   "outputs": [
    {
     "data": {
      "text/plain": [
       "Index(['Id', 'MSSubClass', 'MSZoning', 'LotFrontage', 'LotArea', 'Street',\n",
       "       'Alley', 'LotShape', 'LandContour', 'Utilities', 'LotConfig',\n",
       "       'LandSlope', 'Neighborhood', 'Condition1', 'Condition2', 'BldgType',\n",
       "       'HouseStyle', 'OverallQual', 'OverallCond', 'YearBuilt', 'YearRemodAdd',\n",
       "       'RoofStyle', 'RoofMatl', 'Exterior1st', 'Exterior2nd', 'MasVnrType',\n",
       "       'MasVnrArea', 'ExterQual', 'ExterCond', 'Foundation', 'BsmtQual',\n",
       "       'BsmtCond', 'BsmtExposure', 'BsmtFinType1', 'BsmtFinSF1',\n",
       "       'BsmtFinType2', 'BsmtFinSF2', 'BsmtUnfSF', 'TotalBsmtSF', 'Heating',\n",
       "       'HeatingQC', 'CentralAir', 'Electrical', '1stFlrSF', '2ndFlrSF',\n",
       "       'LowQualFinSF', 'GrLivArea', 'BsmtFullBath', 'BsmtHalfBath', 'FullBath',\n",
       "       'HalfBath', 'BedroomAbvGr', 'KitchenAbvGr', 'KitchenQual',\n",
       "       'TotRmsAbvGrd', 'Functional', 'Fireplaces', 'FireplaceQu', 'GarageType',\n",
       "       'GarageYrBlt', 'GarageFinish', 'GarageCars', 'GarageArea', 'GarageQual',\n",
       "       'GarageCond', 'PavedDrive', 'WoodDeckSF', 'OpenPorchSF',\n",
       "       'EnclosedPorch', '3SsnPorch', 'ScreenPorch', 'PoolArea', 'PoolQC',\n",
       "       'Fence', 'MiscFeature', 'MiscVal', 'MoSold', 'YrSold', 'SaleType',\n",
       "       'SaleCondition', 'SalePrice'],\n",
       "      dtype='object')"
      ]
     },
     "execution_count": 189,
     "metadata": {},
     "output_type": "execute_result"
    }
   ],
   "source": [
    "train.columns"
   ]
  }
 ],
 "metadata": {
  "kernelspec": {
   "display_name": "base",
   "language": "python",
   "name": "python3"
  },
  "language_info": {
   "codemirror_mode": {
    "name": "ipython",
    "version": 3
   },
   "file_extension": ".py",
   "mimetype": "text/x-python",
   "name": "python",
   "nbconvert_exporter": "python",
   "pygments_lexer": "ipython3",
   "version": "3.9.13"
  },
  "orig_nbformat": 4
 },
 "nbformat": 4,
 "nbformat_minor": 2
}
