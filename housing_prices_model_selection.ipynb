{
 "cells": [
  {
   "attachments": {},
   "cell_type": "markdown",
   "metadata": {},
   "source": [
    "import libraries and prepare data"
   ]
  },
  {
   "cell_type": "code",
   "execution_count": 78,
   "metadata": {},
   "outputs": [],
   "source": [
    "# %pip install scikit-learn --upgrade"
   ]
  },
  {
   "cell_type": "code",
   "execution_count": 20,
   "metadata": {},
   "outputs": [],
   "source": [
    "import pandas as pd\n",
    "from sklearn.model_selection import train_test_split\n",
    "from sklearn.impute import SimpleImputer\n",
    "from sklearn.tree import DecisionTreeClassifier\n",
    "from sklearn.metrics import accuracy_score\n",
    "from sklearn.pipeline import make_pipeline\n",
    "from sklearn.preprocessing import OneHotEncoder\n",
    "from sklearn.compose import ColumnTransformer\n",
    "\n"
   ]
  },
  {
   "cell_type": "code",
   "execution_count": 9,
   "metadata": {},
   "outputs": [],
   "source": [
    "pd.set_option(\"display.max_rows\", 1000)\n",
    "pd.set_option(\"display.max_colwidth\", 100)"
   ]
  },
  {
   "cell_type": "code",
   "execution_count": 6,
   "metadata": {},
   "outputs": [
    {
     "data": {
      "text/html": [
       "<div>\n",
       "<style scoped>\n",
       "    .dataframe tbody tr th:only-of-type {\n",
       "        vertical-align: middle;\n",
       "    }\n",
       "\n",
       "    .dataframe tbody tr th {\n",
       "        vertical-align: top;\n",
       "    }\n",
       "\n",
       "    .dataframe thead th {\n",
       "        text-align: right;\n",
       "    }\n",
       "</style>\n",
       "<table border=\"1\" class=\"dataframe\">\n",
       "  <thead>\n",
       "    <tr style=\"text-align: right;\">\n",
       "      <th></th>\n",
       "      <th>LotArea</th>\n",
       "      <th>LotFrontage</th>\n",
       "      <th>TotalBsmtSF</th>\n",
       "      <th>BedroomAbvGr</th>\n",
       "      <th>Fireplaces</th>\n",
       "      <th>PoolArea</th>\n",
       "      <th>GarageCars</th>\n",
       "      <th>WoodDeckSF</th>\n",
       "      <th>ScreenPorch</th>\n",
       "      <th>Expensive</th>\n",
       "      <th>...</th>\n",
       "      <th>GarageType</th>\n",
       "      <th>GarageFinish</th>\n",
       "      <th>GarageQual</th>\n",
       "      <th>GarageCond</th>\n",
       "      <th>PavedDrive</th>\n",
       "      <th>PoolQC</th>\n",
       "      <th>Fence</th>\n",
       "      <th>MiscFeature</th>\n",
       "      <th>SaleType</th>\n",
       "      <th>SaleCondition</th>\n",
       "    </tr>\n",
       "  </thead>\n",
       "  <tbody>\n",
       "    <tr>\n",
       "      <th>0</th>\n",
       "      <td>8450</td>\n",
       "      <td>65.0</td>\n",
       "      <td>856</td>\n",
       "      <td>3</td>\n",
       "      <td>0</td>\n",
       "      <td>0</td>\n",
       "      <td>2</td>\n",
       "      <td>0</td>\n",
       "      <td>0</td>\n",
       "      <td>0</td>\n",
       "      <td>...</td>\n",
       "      <td>Attchd</td>\n",
       "      <td>RFn</td>\n",
       "      <td>TA</td>\n",
       "      <td>TA</td>\n",
       "      <td>Y</td>\n",
       "      <td>NaN</td>\n",
       "      <td>NaN</td>\n",
       "      <td>NaN</td>\n",
       "      <td>WD</td>\n",
       "      <td>Normal</td>\n",
       "    </tr>\n",
       "    <tr>\n",
       "      <th>1</th>\n",
       "      <td>9600</td>\n",
       "      <td>80.0</td>\n",
       "      <td>1262</td>\n",
       "      <td>3</td>\n",
       "      <td>1</td>\n",
       "      <td>0</td>\n",
       "      <td>2</td>\n",
       "      <td>298</td>\n",
       "      <td>0</td>\n",
       "      <td>0</td>\n",
       "      <td>...</td>\n",
       "      <td>Attchd</td>\n",
       "      <td>RFn</td>\n",
       "      <td>TA</td>\n",
       "      <td>TA</td>\n",
       "      <td>Y</td>\n",
       "      <td>NaN</td>\n",
       "      <td>NaN</td>\n",
       "      <td>NaN</td>\n",
       "      <td>WD</td>\n",
       "      <td>Normal</td>\n",
       "    </tr>\n",
       "    <tr>\n",
       "      <th>2</th>\n",
       "      <td>11250</td>\n",
       "      <td>68.0</td>\n",
       "      <td>920</td>\n",
       "      <td>3</td>\n",
       "      <td>1</td>\n",
       "      <td>0</td>\n",
       "      <td>2</td>\n",
       "      <td>0</td>\n",
       "      <td>0</td>\n",
       "      <td>0</td>\n",
       "      <td>...</td>\n",
       "      <td>Attchd</td>\n",
       "      <td>RFn</td>\n",
       "      <td>TA</td>\n",
       "      <td>TA</td>\n",
       "      <td>Y</td>\n",
       "      <td>NaN</td>\n",
       "      <td>NaN</td>\n",
       "      <td>NaN</td>\n",
       "      <td>WD</td>\n",
       "      <td>Normal</td>\n",
       "    </tr>\n",
       "    <tr>\n",
       "      <th>3</th>\n",
       "      <td>9550</td>\n",
       "      <td>60.0</td>\n",
       "      <td>756</td>\n",
       "      <td>3</td>\n",
       "      <td>1</td>\n",
       "      <td>0</td>\n",
       "      <td>3</td>\n",
       "      <td>0</td>\n",
       "      <td>0</td>\n",
       "      <td>0</td>\n",
       "      <td>...</td>\n",
       "      <td>Detchd</td>\n",
       "      <td>Unf</td>\n",
       "      <td>TA</td>\n",
       "      <td>TA</td>\n",
       "      <td>Y</td>\n",
       "      <td>NaN</td>\n",
       "      <td>NaN</td>\n",
       "      <td>NaN</td>\n",
       "      <td>WD</td>\n",
       "      <td>Abnorml</td>\n",
       "    </tr>\n",
       "    <tr>\n",
       "      <th>4</th>\n",
       "      <td>14260</td>\n",
       "      <td>84.0</td>\n",
       "      <td>1145</td>\n",
       "      <td>4</td>\n",
       "      <td>1</td>\n",
       "      <td>0</td>\n",
       "      <td>3</td>\n",
       "      <td>192</td>\n",
       "      <td>0</td>\n",
       "      <td>0</td>\n",
       "      <td>...</td>\n",
       "      <td>Attchd</td>\n",
       "      <td>RFn</td>\n",
       "      <td>TA</td>\n",
       "      <td>TA</td>\n",
       "      <td>Y</td>\n",
       "      <td>NaN</td>\n",
       "      <td>NaN</td>\n",
       "      <td>NaN</td>\n",
       "      <td>WD</td>\n",
       "      <td>Normal</td>\n",
       "    </tr>\n",
       "    <tr>\n",
       "      <th>...</th>\n",
       "      <td>...</td>\n",
       "      <td>...</td>\n",
       "      <td>...</td>\n",
       "      <td>...</td>\n",
       "      <td>...</td>\n",
       "      <td>...</td>\n",
       "      <td>...</td>\n",
       "      <td>...</td>\n",
       "      <td>...</td>\n",
       "      <td>...</td>\n",
       "      <td>...</td>\n",
       "      <td>...</td>\n",
       "      <td>...</td>\n",
       "      <td>...</td>\n",
       "      <td>...</td>\n",
       "      <td>...</td>\n",
       "      <td>...</td>\n",
       "      <td>...</td>\n",
       "      <td>...</td>\n",
       "      <td>...</td>\n",
       "      <td>...</td>\n",
       "    </tr>\n",
       "    <tr>\n",
       "      <th>1455</th>\n",
       "      <td>7917</td>\n",
       "      <td>62.0</td>\n",
       "      <td>953</td>\n",
       "      <td>3</td>\n",
       "      <td>1</td>\n",
       "      <td>0</td>\n",
       "      <td>2</td>\n",
       "      <td>0</td>\n",
       "      <td>0</td>\n",
       "      <td>0</td>\n",
       "      <td>...</td>\n",
       "      <td>Attchd</td>\n",
       "      <td>RFn</td>\n",
       "      <td>TA</td>\n",
       "      <td>TA</td>\n",
       "      <td>Y</td>\n",
       "      <td>NaN</td>\n",
       "      <td>NaN</td>\n",
       "      <td>NaN</td>\n",
       "      <td>WD</td>\n",
       "      <td>Normal</td>\n",
       "    </tr>\n",
       "    <tr>\n",
       "      <th>1456</th>\n",
       "      <td>13175</td>\n",
       "      <td>85.0</td>\n",
       "      <td>1542</td>\n",
       "      <td>3</td>\n",
       "      <td>2</td>\n",
       "      <td>0</td>\n",
       "      <td>2</td>\n",
       "      <td>349</td>\n",
       "      <td>0</td>\n",
       "      <td>0</td>\n",
       "      <td>...</td>\n",
       "      <td>Attchd</td>\n",
       "      <td>Unf</td>\n",
       "      <td>TA</td>\n",
       "      <td>TA</td>\n",
       "      <td>Y</td>\n",
       "      <td>NaN</td>\n",
       "      <td>MnPrv</td>\n",
       "      <td>NaN</td>\n",
       "      <td>WD</td>\n",
       "      <td>Normal</td>\n",
       "    </tr>\n",
       "    <tr>\n",
       "      <th>1457</th>\n",
       "      <td>9042</td>\n",
       "      <td>66.0</td>\n",
       "      <td>1152</td>\n",
       "      <td>4</td>\n",
       "      <td>2</td>\n",
       "      <td>0</td>\n",
       "      <td>1</td>\n",
       "      <td>0</td>\n",
       "      <td>0</td>\n",
       "      <td>1</td>\n",
       "      <td>...</td>\n",
       "      <td>Attchd</td>\n",
       "      <td>RFn</td>\n",
       "      <td>TA</td>\n",
       "      <td>TA</td>\n",
       "      <td>Y</td>\n",
       "      <td>NaN</td>\n",
       "      <td>GdPrv</td>\n",
       "      <td>Shed</td>\n",
       "      <td>WD</td>\n",
       "      <td>Normal</td>\n",
       "    </tr>\n",
       "    <tr>\n",
       "      <th>1458</th>\n",
       "      <td>9717</td>\n",
       "      <td>68.0</td>\n",
       "      <td>1078</td>\n",
       "      <td>2</td>\n",
       "      <td>0</td>\n",
       "      <td>0</td>\n",
       "      <td>1</td>\n",
       "      <td>366</td>\n",
       "      <td>0</td>\n",
       "      <td>0</td>\n",
       "      <td>...</td>\n",
       "      <td>Attchd</td>\n",
       "      <td>Unf</td>\n",
       "      <td>TA</td>\n",
       "      <td>TA</td>\n",
       "      <td>Y</td>\n",
       "      <td>NaN</td>\n",
       "      <td>NaN</td>\n",
       "      <td>NaN</td>\n",
       "      <td>WD</td>\n",
       "      <td>Normal</td>\n",
       "    </tr>\n",
       "    <tr>\n",
       "      <th>1459</th>\n",
       "      <td>9937</td>\n",
       "      <td>75.0</td>\n",
       "      <td>1256</td>\n",
       "      <td>3</td>\n",
       "      <td>0</td>\n",
       "      <td>0</td>\n",
       "      <td>1</td>\n",
       "      <td>736</td>\n",
       "      <td>0</td>\n",
       "      <td>0</td>\n",
       "      <td>...</td>\n",
       "      <td>Attchd</td>\n",
       "      <td>Fin</td>\n",
       "      <td>TA</td>\n",
       "      <td>TA</td>\n",
       "      <td>Y</td>\n",
       "      <td>NaN</td>\n",
       "      <td>NaN</td>\n",
       "      <td>NaN</td>\n",
       "      <td>WD</td>\n",
       "      <td>Normal</td>\n",
       "    </tr>\n",
       "  </tbody>\n",
       "</table>\n",
       "<p>1460 rows × 81 columns</p>\n",
       "</div>"
      ],
      "text/plain": [
       "      LotArea  LotFrontage  TotalBsmtSF  BedroomAbvGr  Fireplaces  PoolArea  \\\n",
       "0        8450         65.0          856             3           0         0   \n",
       "1        9600         80.0         1262             3           1         0   \n",
       "2       11250         68.0          920             3           1         0   \n",
       "3        9550         60.0          756             3           1         0   \n",
       "4       14260         84.0         1145             4           1         0   \n",
       "...       ...          ...          ...           ...         ...       ...   \n",
       "1455     7917         62.0          953             3           1         0   \n",
       "1456    13175         85.0         1542             3           2         0   \n",
       "1457     9042         66.0         1152             4           2         0   \n",
       "1458     9717         68.0         1078             2           0         0   \n",
       "1459     9937         75.0         1256             3           0         0   \n",
       "\n",
       "      GarageCars  WoodDeckSF  ScreenPorch  Expensive  ... GarageType  \\\n",
       "0              2           0            0          0  ...     Attchd   \n",
       "1              2         298            0          0  ...     Attchd   \n",
       "2              2           0            0          0  ...     Attchd   \n",
       "3              3           0            0          0  ...     Detchd   \n",
       "4              3         192            0          0  ...     Attchd   \n",
       "...          ...         ...          ...        ...  ...        ...   \n",
       "1455           2           0            0          0  ...     Attchd   \n",
       "1456           2         349            0          0  ...     Attchd   \n",
       "1457           1           0            0          1  ...     Attchd   \n",
       "1458           1         366            0          0  ...     Attchd   \n",
       "1459           1         736            0          0  ...     Attchd   \n",
       "\n",
       "     GarageFinish GarageQual GarageCond PavedDrive PoolQC  Fence MiscFeature  \\\n",
       "0             RFn         TA         TA          Y    NaN    NaN         NaN   \n",
       "1             RFn         TA         TA          Y    NaN    NaN         NaN   \n",
       "2             RFn         TA         TA          Y    NaN    NaN         NaN   \n",
       "3             Unf         TA         TA          Y    NaN    NaN         NaN   \n",
       "4             RFn         TA         TA          Y    NaN    NaN         NaN   \n",
       "...           ...        ...        ...        ...    ...    ...         ...   \n",
       "1455          RFn         TA         TA          Y    NaN    NaN         NaN   \n",
       "1456          Unf         TA         TA          Y    NaN  MnPrv         NaN   \n",
       "1457          RFn         TA         TA          Y    NaN  GdPrv        Shed   \n",
       "1458          Unf         TA         TA          Y    NaN    NaN         NaN   \n",
       "1459          Fin         TA         TA          Y    NaN    NaN         NaN   \n",
       "\n",
       "     SaleType SaleCondition  \n",
       "0          WD        Normal  \n",
       "1          WD        Normal  \n",
       "2          WD        Normal  \n",
       "3          WD       Abnorml  \n",
       "4          WD        Normal  \n",
       "...       ...           ...  \n",
       "1455       WD        Normal  \n",
       "1456       WD        Normal  \n",
       "1457       WD        Normal  \n",
       "1458       WD        Normal  \n",
       "1459       WD        Normal  \n",
       "\n",
       "[1460 rows x 81 columns]"
      ]
     },
     "execution_count": 6,
     "metadata": {},
     "output_type": "execute_result"
    }
   ],
   "source": [
    "data = pd.read_csv('data/housing-classification-iter6.csv')\n",
    "data"
   ]
  },
  {
   "cell_type": "code",
   "execution_count": 30,
   "metadata": {},
   "outputs": [],
   "source": [
    "# import validation datss from google drive\n",
    "\n",
    "url = 'https://drive.google.com/file/d/15PfmTxmavQCT-f7iY9tgwWxm9t4GRees/view'\n",
    "# create path to file\n",
    "\n",
    "path = 'https://drive.google.com/uc?export=download&id='+url.split('/')[-2]\n",
    "\n",
    "validation_data = df = pd.read_csv(path)\n",
    "\n"
   ]
  },
  {
   "cell_type": "code",
   "execution_count": 41,
   "metadata": {},
   "outputs": [
    {
     "name": "stdout",
     "output_type": "stream",
     "text": [
      "<class 'pandas.core.frame.DataFrame'>\n",
      "RangeIndex: 1459 entries, 0 to 1458\n",
      "Data columns (total 80 columns):\n",
      " #   Column         Non-Null Count  Dtype  \n",
      "---  ------         --------------  -----  \n",
      " 0   LotArea        1459 non-null   int64  \n",
      " 1   LotFrontage    1232 non-null   float64\n",
      " 2   TotalBsmtSF    1458 non-null   float64\n",
      " 3   BedroomAbvGr   1459 non-null   int64  \n",
      " 4   Fireplaces     1459 non-null   int64  \n",
      " 5   PoolArea       1459 non-null   int64  \n",
      " 6   GarageCars     1458 non-null   float64\n",
      " 7   WoodDeckSF     1459 non-null   int64  \n",
      " 8   ScreenPorch    1459 non-null   int64  \n",
      " 9   MSZoning       1455 non-null   object \n",
      " 10  Condition1     1459 non-null   object \n",
      " 11  Heating        1459 non-null   object \n",
      " 12  Street         1459 non-null   object \n",
      " 13  CentralAir     1459 non-null   object \n",
      " 14  Foundation     1459 non-null   object \n",
      " 15  ExterQual      1459 non-null   object \n",
      " 16  ExterCond      1459 non-null   object \n",
      " 17  BsmtQual       1415 non-null   object \n",
      " 18  BsmtCond       1414 non-null   object \n",
      " 19  BsmtExposure   1415 non-null   object \n",
      " 20  BsmtFinType1   1417 non-null   object \n",
      " 21  KitchenQual    1458 non-null   object \n",
      " 22  FireplaceQu    729 non-null    object \n",
      " 23  MSSubClass     1459 non-null   int64  \n",
      " 24  OverallQual    1459 non-null   int64  \n",
      " 25  OverallCond    1459 non-null   int64  \n",
      " 26  YearBuilt      1459 non-null   int64  \n",
      " 27  YearRemodAdd   1459 non-null   int64  \n",
      " 28  MasVnrArea     1444 non-null   float64\n",
      " 29  BsmtFinSF1     1458 non-null   float64\n",
      " 30  BsmtFinSF2     1458 non-null   float64\n",
      " 31  BsmtUnfSF      1458 non-null   float64\n",
      " 32  1stFlrSF       1459 non-null   int64  \n",
      " 33  2ndFlrSF       1459 non-null   int64  \n",
      " 34  LowQualFinSF   1459 non-null   int64  \n",
      " 35  GrLivArea      1459 non-null   int64  \n",
      " 36  BsmtFullBath   1457 non-null   float64\n",
      " 37  BsmtHalfBath   1457 non-null   float64\n",
      " 38  FullBath       1459 non-null   int64  \n",
      " 39  HalfBath       1459 non-null   int64  \n",
      " 40  KitchenAbvGr   1459 non-null   int64  \n",
      " 41  TotRmsAbvGrd   1459 non-null   int64  \n",
      " 42  GarageYrBlt    1381 non-null   float64\n",
      " 43  GarageArea     1458 non-null   float64\n",
      " 44  OpenPorchSF    1459 non-null   int64  \n",
      " 45  EnclosedPorch  1459 non-null   int64  \n",
      " 46  3SsnPorch      1459 non-null   int64  \n",
      " 47  MiscVal        1459 non-null   int64  \n",
      " 48  MoSold         1459 non-null   int64  \n",
      " 49  YrSold         1459 non-null   int64  \n",
      " 50  Id             1459 non-null   int64  \n",
      " 51  Alley          107 non-null    object \n",
      " 52  LotShape       1459 non-null   object \n",
      " 53  LandContour    1459 non-null   object \n",
      " 54  Utilities      1457 non-null   object \n",
      " 55  LotConfig      1459 non-null   object \n",
      " 56  LandSlope      1459 non-null   object \n",
      " 57  Neighborhood   1459 non-null   object \n",
      " 58  Condition2     1459 non-null   object \n",
      " 59  BldgType       1459 non-null   object \n",
      " 60  HouseStyle     1459 non-null   object \n",
      " 61  RoofStyle      1459 non-null   object \n",
      " 62  RoofMatl       1459 non-null   object \n",
      " 63  Exterior1st    1458 non-null   object \n",
      " 64  Exterior2nd    1458 non-null   object \n",
      " 65  MasVnrType     1443 non-null   object \n",
      " 66  BsmtFinType2   1417 non-null   object \n",
      " 67  HeatingQC      1459 non-null   object \n",
      " 68  Electrical     1459 non-null   object \n",
      " 69  Functional     1457 non-null   object \n",
      " 70  GarageType     1383 non-null   object \n",
      " 71  GarageFinish   1381 non-null   object \n",
      " 72  GarageQual     1381 non-null   object \n",
      " 73  GarageCond     1381 non-null   object \n",
      " 74  PavedDrive     1459 non-null   object \n",
      " 75  PoolQC         3 non-null      object \n",
      " 76  Fence          290 non-null    object \n",
      " 77  MiscFeature    51 non-null     object \n",
      " 78  SaleType       1458 non-null   object \n",
      " 79  SaleCondition  1459 non-null   object \n",
      "dtypes: float64(11), int64(26), object(43)\n",
      "memory usage: 912.0+ KB\n"
     ]
    }
   ],
   "source": [
    "validation_data.info()"
   ]
  },
  {
   "cell_type": "code",
   "execution_count": 38,
   "metadata": {},
   "outputs": [
    {
     "data": {
      "text/plain": [
       "count    1460.000000\n",
       "mean        0.148630\n",
       "std         0.355845\n",
       "min         0.000000\n",
       "25%         0.000000\n",
       "50%         0.000000\n",
       "75%         0.000000\n",
       "max         1.000000\n",
       "Name: Expensive, dtype: float64"
      ]
     },
     "execution_count": 38,
     "metadata": {},
     "output_type": "execute_result"
    }
   ],
   "source": [
    "data['Expensive'].describe()"
   ]
  },
  {
   "cell_type": "code",
   "execution_count": 13,
   "metadata": {},
   "outputs": [
    {
     "data": {
      "text/plain": [
       "0    0.85137\n",
       "1    0.14863\n",
       "Name: Expensive, dtype: float64"
      ]
     },
     "execution_count": 13,
     "metadata": {},
     "output_type": "execute_result"
    }
   ],
   "source": [
    "# count proprtion of values in the 'expensive column\n",
    "data['Expensive'].value_counts(normalize=True)"
   ]
  },
  {
   "cell_type": "code",
   "execution_count": 4,
   "metadata": {},
   "outputs": [],
   "source": [
    "X = data\n",
    "y = X.pop('Expensive')"
   ]
  },
  {
   "cell_type": "code",
   "execution_count": 65,
   "metadata": {},
   "outputs": [
    {
     "data": {
      "text/plain": [
       "0       0\n",
       "1       0\n",
       "2       0\n",
       "3       0\n",
       "4       0\n",
       "       ..\n",
       "1455    0\n",
       "1456    0\n",
       "1457    1\n",
       "1458    0\n",
       "1459    0\n",
       "Name: Expensive, Length: 1460, dtype: int64"
      ]
     },
     "execution_count": 65,
     "metadata": {},
     "output_type": "execute_result"
    }
   ],
   "source": []
  },
  {
   "cell_type": "code",
   "execution_count": 5,
   "metadata": {},
   "outputs": [
    {
     "name": "stdout",
     "output_type": "stream",
     "text": [
      "<class 'pandas.core.frame.DataFrame'>\n",
      "RangeIndex: 1460 entries, 0 to 1459\n",
      "Data columns (total 80 columns):\n",
      " #   Column         Non-Null Count  Dtype  \n",
      "---  ------         --------------  -----  \n",
      " 0   LotArea        1460 non-null   int64  \n",
      " 1   LotFrontage    1201 non-null   float64\n",
      " 2   TotalBsmtSF    1460 non-null   int64  \n",
      " 3   BedroomAbvGr   1460 non-null   int64  \n",
      " 4   Fireplaces     1460 non-null   int64  \n",
      " 5   PoolArea       1460 non-null   int64  \n",
      " 6   GarageCars     1460 non-null   int64  \n",
      " 7   WoodDeckSF     1460 non-null   int64  \n",
      " 8   ScreenPorch    1460 non-null   int64  \n",
      " 9   MSZoning       1460 non-null   object \n",
      " 10  Condition1     1460 non-null   object \n",
      " 11  Heating        1460 non-null   object \n",
      " 12  Street         1460 non-null   object \n",
      " 13  CentralAir     1460 non-null   object \n",
      " 14  Foundation     1460 non-null   object \n",
      " 15  ExterQual      1460 non-null   object \n",
      " 16  ExterCond      1460 non-null   object \n",
      " 17  BsmtQual       1423 non-null   object \n",
      " 18  BsmtCond       1423 non-null   object \n",
      " 19  BsmtExposure   1422 non-null   object \n",
      " 20  BsmtFinType1   1423 non-null   object \n",
      " 21  KitchenQual    1460 non-null   object \n",
      " 22  FireplaceQu    770 non-null    object \n",
      " 23  MSSubClass     1460 non-null   int64  \n",
      " 24  OverallQual    1460 non-null   int64  \n",
      " 25  OverallCond    1460 non-null   int64  \n",
      " 26  YearBuilt      1460 non-null   int64  \n",
      " 27  YearRemodAdd   1460 non-null   int64  \n",
      " 28  MasVnrArea     1452 non-null   float64\n",
      " 29  BsmtFinSF1     1460 non-null   int64  \n",
      " 30  BsmtFinSF2     1460 non-null   int64  \n",
      " 31  BsmtUnfSF      1460 non-null   int64  \n",
      " 32  1stFlrSF       1460 non-null   int64  \n",
      " 33  2ndFlrSF       1460 non-null   int64  \n",
      " 34  LowQualFinSF   1460 non-null   int64  \n",
      " 35  GrLivArea      1460 non-null   int64  \n",
      " 36  BsmtFullBath   1460 non-null   int64  \n",
      " 37  BsmtHalfBath   1460 non-null   int64  \n",
      " 38  FullBath       1460 non-null   int64  \n",
      " 39  HalfBath       1460 non-null   int64  \n",
      " 40  KitchenAbvGr   1460 non-null   int64  \n",
      " 41  TotRmsAbvGrd   1460 non-null   int64  \n",
      " 42  GarageYrBlt    1379 non-null   float64\n",
      " 43  GarageArea     1460 non-null   int64  \n",
      " 44  OpenPorchSF    1460 non-null   int64  \n",
      " 45  EnclosedPorch  1460 non-null   int64  \n",
      " 46  3SsnPorch      1460 non-null   int64  \n",
      " 47  MiscVal        1460 non-null   int64  \n",
      " 48  MoSold         1460 non-null   int64  \n",
      " 49  YrSold         1460 non-null   int64  \n",
      " 50  Id             1460 non-null   int64  \n",
      " 51  Alley          91 non-null     object \n",
      " 52  LotShape       1460 non-null   object \n",
      " 53  LandContour    1460 non-null   object \n",
      " 54  Utilities      1460 non-null   object \n",
      " 55  LotConfig      1460 non-null   object \n",
      " 56  LandSlope      1460 non-null   object \n",
      " 57  Neighborhood   1460 non-null   object \n",
      " 58  Condition2     1460 non-null   object \n",
      " 59  BldgType       1460 non-null   object \n",
      " 60  HouseStyle     1460 non-null   object \n",
      " 61  RoofStyle      1460 non-null   object \n",
      " 62  RoofMatl       1460 non-null   object \n",
      " 63  Exterior1st    1460 non-null   object \n",
      " 64  Exterior2nd    1460 non-null   object \n",
      " 65  MasVnrType     1452 non-null   object \n",
      " 66  BsmtFinType2   1422 non-null   object \n",
      " 67  HeatingQC      1460 non-null   object \n",
      " 68  Electrical     1459 non-null   object \n",
      " 69  Functional     1460 non-null   object \n",
      " 70  GarageType     1379 non-null   object \n",
      " 71  GarageFinish   1379 non-null   object \n",
      " 72  GarageQual     1379 non-null   object \n",
      " 73  GarageCond     1379 non-null   object \n",
      " 74  PavedDrive     1460 non-null   object \n",
      " 75  PoolQC         7 non-null      object \n",
      " 76  Fence          281 non-null    object \n",
      " 77  MiscFeature    54 non-null     object \n",
      " 78  SaleType       1460 non-null   object \n",
      " 79  SaleCondition  1460 non-null   object \n",
      "dtypes: float64(3), int64(34), object(43)\n",
      "memory usage: 912.6+ KB\n"
     ]
    }
   ],
   "source": [
    "data.info()"
   ]
  },
  {
   "cell_type": "code",
   "execution_count": 44,
   "metadata": {},
   "outputs": [
    {
     "data": {
      "text/plain": [
       "43"
      ]
     },
     "execution_count": 44,
     "metadata": {},
     "output_type": "execute_result"
    }
   ],
   "source": [
    "# print two lists of columns. One with Dtypes of object and one with Dtypes of int64 and float64\n",
    "categorical_columns = [col for col in X.columns if X[col].dtype == 'object']\n",
    "len(categorical_columns)"
   ]
  },
  {
   "cell_type": "code",
   "execution_count": 45,
   "metadata": {},
   "outputs": [
    {
     "data": {
      "text/plain": [
       "37"
      ]
     },
     "execution_count": 45,
     "metadata": {},
     "output_type": "execute_result"
    }
   ],
   "source": [
    "numerical_columns = [col for col in X.columns if X[col].dtype in ['int64', 'float64']]\n",
    "len(numerical_columns)"
   ]
  },
  {
   "cell_type": "code",
   "execution_count": 53,
   "metadata": {},
   "outputs": [
    {
     "data": {
      "text/plain": [
       "MSZoning            0\n",
       "Condition1          0\n",
       "Heating             0\n",
       "Street              0\n",
       "CentralAir          0\n",
       "Foundation          0\n",
       "ExterQual           0\n",
       "ExterCond           0\n",
       "BsmtQual           37\n",
       "BsmtCond           37\n",
       "BsmtExposure       38\n",
       "BsmtFinType1       37\n",
       "KitchenQual         0\n",
       "FireplaceQu       690\n",
       "Alley            1369\n",
       "LotShape            0\n",
       "LandContour         0\n",
       "Utilities           0\n",
       "LotConfig           0\n",
       "LandSlope           0\n",
       "Neighborhood        0\n",
       "Condition2          0\n",
       "BldgType            0\n",
       "HouseStyle          0\n",
       "RoofStyle           0\n",
       "RoofMatl            0\n",
       "Exterior1st         0\n",
       "Exterior2nd         0\n",
       "MasVnrType          8\n",
       "BsmtFinType2       38\n",
       "HeatingQC           0\n",
       "Electrical          1\n",
       "Functional          0\n",
       "GarageType         81\n",
       "GarageFinish       81\n",
       "GarageQual         81\n",
       "GarageCond         81\n",
       "PavedDrive          0\n",
       "PoolQC           1453\n",
       "Fence            1179\n",
       "MiscFeature      1406\n",
       "SaleType            0\n",
       "SaleCondition       0\n",
       "dtype: int64"
      ]
     },
     "execution_count": 53,
     "metadata": {},
     "output_type": "execute_result"
    }
   ],
   "source": [
    "#missing values in cloumns with Dtypes of object\n",
    "X[categorical_columns].isnull().sum()"
   ]
  },
  {
   "cell_type": "code",
   "execution_count": 63,
   "metadata": {},
   "outputs": [
    {
     "data": {
      "text/plain": [
       "Gd    3\n",
       "Ex    2\n",
       "Fa    2\n",
       "Name: PoolQC, dtype: int64"
      ]
     },
     "execution_count": 63,
     "metadata": {},
     "output_type": "execute_result"
    }
   ],
   "source": [
    "X['PoolQC'].value_counts()"
   ]
  },
  {
   "cell_type": "code",
   "execution_count": 46,
   "metadata": {},
   "outputs": [
    {
     "data": {
      "text/plain": [
       "LotArea             0\n",
       "LotFrontage       259\n",
       "TotalBsmtSF         0\n",
       "BedroomAbvGr        0\n",
       "Fireplaces          0\n",
       "PoolArea            0\n",
       "GarageCars          0\n",
       "WoodDeckSF          0\n",
       "ScreenPorch         0\n",
       "Expensive           0\n",
       "MSZoning            0\n",
       "Condition1          0\n",
       "Heating             0\n",
       "Street              0\n",
       "CentralAir          0\n",
       "Foundation          0\n",
       "ExterQual           0\n",
       "ExterCond           0\n",
       "BsmtQual           37\n",
       "BsmtCond           37\n",
       "BsmtExposure       38\n",
       "BsmtFinType1       37\n",
       "KitchenQual         0\n",
       "FireplaceQu       690\n",
       "MSSubClass          0\n",
       "OverallQual         0\n",
       "OverallCond         0\n",
       "YearBuilt           0\n",
       "YearRemodAdd        0\n",
       "MasVnrArea          8\n",
       "BsmtFinSF1          0\n",
       "BsmtFinSF2          0\n",
       "BsmtUnfSF           0\n",
       "1stFlrSF            0\n",
       "2ndFlrSF            0\n",
       "LowQualFinSF        0\n",
       "GrLivArea           0\n",
       "BsmtFullBath        0\n",
       "BsmtHalfBath        0\n",
       "FullBath            0\n",
       "HalfBath            0\n",
       "KitchenAbvGr        0\n",
       "TotRmsAbvGrd        0\n",
       "GarageYrBlt        81\n",
       "GarageArea          0\n",
       "OpenPorchSF         0\n",
       "EnclosedPorch       0\n",
       "3SsnPorch           0\n",
       "MiscVal             0\n",
       "MoSold              0\n",
       "YrSold              0\n",
       "Id                  0\n",
       "Alley            1369\n",
       "LotShape            0\n",
       "LandContour         0\n",
       "Utilities           0\n",
       "LotConfig           0\n",
       "LandSlope           0\n",
       "Neighborhood        0\n",
       "Condition2          0\n",
       "BldgType            0\n",
       "HouseStyle          0\n",
       "RoofStyle           0\n",
       "RoofMatl            0\n",
       "Exterior1st         0\n",
       "Exterior2nd         0\n",
       "MasVnrType          8\n",
       "BsmtFinType2       38\n",
       "HeatingQC           0\n",
       "Electrical          1\n",
       "Functional          0\n",
       "GarageType         81\n",
       "GarageFinish       81\n",
       "GarageQual         81\n",
       "GarageCond         81\n",
       "PavedDrive          0\n",
       "PoolQC           1453\n",
       "Fence            1179\n",
       "MiscFeature      1406\n",
       "SaleType            0\n",
       "SaleCondition       0\n",
       "dtype: int64"
      ]
     },
     "execution_count": 46,
     "metadata": {},
     "output_type": "execute_result"
    }
   ],
   "source": [
    "data.isna().sum()"
   ]
  },
  {
   "cell_type": "code",
   "execution_count": 51,
   "metadata": {},
   "outputs": [
    {
     "data": {
      "text/plain": [
       "848     NaN\n",
       "408     NaN\n",
       "826     NaN\n",
       "1416    NaN\n",
       "580     NaN\n",
       "280     NaN\n",
       "1399    NaN\n",
       "538     NaN\n",
       "739     NaN\n",
       "1165    NaN\n",
       "Name: PoolQC, dtype: object"
      ]
     },
     "execution_count": 51,
     "metadata": {},
     "output_type": "execute_result"
    }
   ],
   "source": [
    "data['PoolQC'].sample(10)"
   ]
  },
  {
   "cell_type": "code",
   "execution_count": 29,
   "metadata": {},
   "outputs": [
    {
     "data": {
      "text/plain": [
       "Index(['LotArea', 'LotFrontage', 'TotalBsmtSF', 'BedroomAbvGr', 'Fireplaces',\n",
       "       'PoolArea', 'GarageCars', 'WoodDeckSF', 'ScreenPorch', 'MSZoning',\n",
       "       'Condition1', 'Heating', 'Street', 'CentralAir', 'Foundation',\n",
       "       'ExterQual', 'ExterCond', 'BsmtQual', 'BsmtCond', 'BsmtExposure',\n",
       "       'BsmtFinType1', 'KitchenQual', 'FireplaceQu', 'MSSubClass',\n",
       "       'OverallQual', 'OverallCond', 'YearBuilt', 'YearRemodAdd', 'MasVnrArea',\n",
       "       'BsmtFinSF1', 'BsmtFinSF2', 'BsmtUnfSF', '1stFlrSF', '2ndFlrSF',\n",
       "       'LowQualFinSF', 'GrLivArea', 'BsmtFullBath', 'BsmtHalfBath', 'FullBath',\n",
       "       'HalfBath', 'KitchenAbvGr', 'TotRmsAbvGrd', 'GarageYrBlt', 'GarageArea',\n",
       "       'OpenPorchSF', 'EnclosedPorch', '3SsnPorch', 'MiscVal', 'MoSold',\n",
       "       'YrSold', 'Id', 'Alley', 'LotShape', 'LandContour', 'Utilities',\n",
       "       'LotConfig', 'LandSlope', 'Neighborhood', 'Condition2', 'BldgType',\n",
       "       'HouseStyle', 'RoofStyle', 'RoofMatl', 'Exterior1st', 'Exterior2nd',\n",
       "       'MasVnrType', 'BsmtFinType2', 'HeatingQC', 'Electrical', 'Functional',\n",
       "       'GarageType', 'GarageFinish', 'GarageQual', 'GarageCond', 'PavedDrive',\n",
       "       'PoolQC', 'Fence', 'MiscFeature', 'SaleType', 'SaleCondition'],\n",
       "      dtype='object')"
      ]
     },
     "execution_count": 29,
     "metadata": {},
     "output_type": "execute_result"
    }
   ],
   "source": [
    "data.columns"
   ]
  },
  {
   "cell_type": "code",
   "execution_count": 15,
   "metadata": {},
   "outputs": [],
   "source": [
    "# data splittting\n",
    "X_train, X_test, y_train, y_test = train_test_split(X, y, test_size=0.2, random_state=123)"
   ]
  },
  {
   "cell_type": "code",
   "execution_count": 21,
   "metadata": {},
   "outputs": [],
   "source": [
    "#building the pipeline\n",
    "\n",
    "# X_cat = X_train.select_dtypes(include=['object']) # select categorical columns. X_train maybe correct version than X.select\n",
    "# X_num = X_train.select_dtypes(exclude=['object']) # select numerical columns\n",
    "\n",
    "X_cat = X.select_dtypes(exclude='number').copy()\n",
    "X_num = X.select_dtypes(include='number').copy()\n",
    "\n",
    "numeric_pipe = make_pipeline(SimpleImputer(strategy='mean'))\n",
    "\n",
    "categoric_pipe = make_pipeline(SimpleImputer(strategy='constant', fill_value='N_A'), OneHotEncoder(handle_unknown='ignore'))\n",
    "\n",
    "preprocessor = ColumnTransformer(\n",
    "    transformers=[\n",
    "        ('num_pipe', numeric_pipe, X_num.columns),\n",
    "        ('cat_pipe', categoric_pipe, X_cat.columns),\n",
    "    ]\n",
    "    )\n",
    "\n"
   ]
  },
  {
   "attachments": {},
   "cell_type": "markdown",
   "metadata": {},
   "source": [
    "Modelling decision tree"
   ]
  },
  {
   "cell_type": "code",
   "execution_count": 26,
   "metadata": {},
   "outputs": [
    {
     "name": "stdout",
     "output_type": "stream",
     "text": [
      "Fitting 5 folds for each of 60 candidates, totalling 300 fits\n"
     ]
    },
    {
     "data": {
      "text/plain": [
       "{'dtree': 0.9280730714207108}"
      ]
     },
     "execution_count": 26,
     "metadata": {},
     "output_type": "execute_result"
    }
   ],
   "source": [
    "from sklearn.model_selection import GridSearchCV\n",
    "\n",
    "full_pipeline = make_pipeline(preprocessor, DecisionTreeClassifier(random_state=123))\n",
    "\n",
    "param_grid = {\n",
    "    'columntransformer__num_pipe__simpleimputer__strategy': ['mean', 'median'],\n",
    "    'decisiontreeclassifier__max_depth': range(2, 14, 2),\n",
    "    'decisiontreeclassifier__min_samples_leaf': range(3, 12, 2)\n",
    "}\n",
    "\n",
    "search = GridSearchCV(full_pipeline,\n",
    "                      param_grid,\n",
    "                      cv=5,\n",
    "                      verbose=1)\n",
    "\n",
    "search.fit(X_train, y_train)\n",
    "scores = {'dtree': search.best_score_}\n",
    "scores"
   ]
  },
  {
   "attachments": {},
   "cell_type": "markdown",
   "metadata": {},
   "source": [
    "KNN model"
   ]
  },
  {
   "cell_type": "code",
   "execution_count": 86,
   "metadata": {},
   "outputs": [
    {
     "name": "stdout",
     "output_type": "stream",
     "text": [
      "Fitting 5 folds for each of 192 candidates, totalling 960 fits\n"
     ]
    },
    {
     "data": {
      "text/plain": [
       "{'dtree': 0.9280730714207108, 'knn': 0.9306445104728365}"
      ]
     },
     "execution_count": 86,
     "metadata": {},
     "output_type": "execute_result"
    }
   ],
   "source": [
    "from sklearn.neighbors import KNeighborsClassifier\n",
    "from sklearn.preprocessing import StandardScaler\n",
    "\n",
    "knn_pipe = make_pipeline(preprocessor,\n",
    "                         StandardScaler(with_mean=False, with_std=True),\n",
    "                         KNeighborsClassifier()\n",
    "                         )\n",
    "\n",
    "from sklearn.model_selection import GridSearchCV\n",
    "param_grid = {\n",
    "    'columntransformer__num_pipe__simpleimputer__strategy': ['mean', 'median'],\n",
    "    'kneighborsclassifier__n_neighbors': range(2, 50),\n",
    "    'kneighborsclassifier__weights': ['uniform', 'distance']\n",
    "}\n",
    "\n",
    "knn_search = GridSearchCV(knn_pipe,\n",
    "                          param_grid,\n",
    "                          cv=5,\n",
    "                        #   scoring='accuracy',\n",
    "                          verbose=1)\n",
    "\n",
    "knn_search.fit(X_train, y_train)\n",
    "\n",
    "scores['knn'] = knn_search.best_score_\n",
    "\n",
    "scores\n"
   ]
  },
  {
   "cell_type": "code",
   "execution_count": null,
   "metadata": {},
   "outputs": [],
   "source": []
  },
  {
   "attachments": {},
   "cell_type": "markdown",
   "metadata": {},
   "source": [
    "Error analysis"
   ]
  },
  {
   "cell_type": "code",
   "execution_count": 28,
   "metadata": {},
   "outputs": [
    {
     "data": {
      "text/plain": [
       "array([0, 0, 0, 0, 0, 1, 1, 0, 0, 0, 0, 0, 0, 0, 1, 0, 0, 1, 1, 0, 0, 0,\n",
       "       0, 0, 0, 0, 0, 0, 0, 0, 0, 0, 0, 0, 1, 0, 0, 1, 0, 0, 0, 0, 0, 0,\n",
       "       0, 0, 0, 0, 1, 0, 0, 0, 0, 0, 0, 0, 0, 0, 1, 1, 0, 1, 0, 0, 0, 0,\n",
       "       0, 0, 0, 0, 0, 0, 0, 1, 0, 0, 0, 0, 0, 0, 1, 1, 0, 0, 1, 0, 0, 0,\n",
       "       0, 1, 0, 0, 0, 0, 0, 0, 0, 0, 0, 0, 0, 1, 1, 0, 0, 0, 0, 0, 0, 1,\n",
       "       1, 0, 0, 1, 0, 0, 0, 1, 0, 0, 0, 0, 0, 0, 1, 0, 0, 0, 0, 1, 0, 1,\n",
       "       1, 0, 0, 0, 1, 0, 0, 0, 0, 0, 0, 0, 0, 1, 0, 0, 0, 0, 0, 0, 1, 0,\n",
       "       1, 0, 1, 0, 0, 0, 1, 0, 1, 0, 0, 0, 0, 0, 0, 0, 0, 0, 1, 0, 0, 0,\n",
       "       0, 0, 0, 0, 0, 0, 0, 0, 0, 0, 0, 0, 0, 0, 0, 0, 0, 0, 0, 1, 0, 0,\n",
       "       0, 0, 0, 1, 0, 0, 0, 0, 0, 0, 0, 0, 0, 0, 0, 0, 0, 1, 0, 0, 0, 0,\n",
       "       0, 0, 0, 0, 0, 0, 0, 0, 0, 0, 0, 0, 0, 0, 0, 0, 0, 0, 0, 0, 0, 0,\n",
       "       0, 0, 0, 0, 0, 1, 0, 0, 0, 0, 0, 0, 0, 0, 1, 0, 0, 0, 0, 0, 0, 0,\n",
       "       0, 0, 1, 0, 0, 0, 0, 0, 0, 0, 0, 0, 0, 0, 0, 0, 0, 0, 0, 0, 0, 0,\n",
       "       0, 0, 0, 0, 0, 0])"
      ]
     },
     "execution_count": 28,
     "metadata": {},
     "output_type": "execute_result"
    }
   ],
   "source": [
    "# test accuracy\n",
    "accuracy_score(search.predict(X_test), y_test)"
   ]
  },
  {
   "cell_type": "code",
   "execution_count": 89,
   "metadata": {},
   "outputs": [
    {
     "data": {
      "text/plain": [
       "<sklearn.metrics._plot.confusion_matrix.ConfusionMatrixDisplay at 0x7fcf71ef9f40>"
      ]
     },
     "execution_count": 89,
     "metadata": {},
     "output_type": "execute_result"
    },
    {
     "data": {
      "image/png": "[encoded data removed]",
      "text/plain": [
       "<Figure size 640x480 with 2 Axes>"
      ]
     },
     "metadata": {},
     "output_type": "display_data"
    }
   ],
   "source": [
    "from sklearn.metrics import ConfusionMatrixDisplay\n",
    "ConfusionMatrixDisplay.from_estimator(knn_search, # here to see model resutls indicate the name of the model search, knn_search etc\n",
    "                                      X_test,\n",
    "                                      y_test,\n",
    "                                      display_labels=['Not Expensive', 'Expensive'])"
   ]
  },
  {
   "attachments": {},
   "cell_type": "markdown",
   "metadata": {},
   "source": [
    "Validation prediction"
   ]
  },
  {
   "cell_type": "code",
   "execution_count": 66,
   "metadata": {},
   "outputs": [],
   "source": [
    "# test the decision tree model and predict on validation data\n",
    "#this model is decision tree model\n",
    "y_validation_pred = search.predict(validation_data) \n"
   ]
  },
  {
   "cell_type": "code",
   "execution_count": 90,
   "metadata": {},
   "outputs": [],
   "source": [
    "\n",
    "#this model is knn model\n",
    "y_knn_validation_pred = knn_search.predict(validation_data) "
   ]
  },
  {
   "cell_type": "code",
   "execution_count": 67,
   "metadata": {},
   "outputs": [],
   "source": [
    "# create a dataframe with the validation data and the predictions\n",
    "# validation_data['Expensive'] = y_validation_pred\n",
    "\n",
    "submission_df = pd.DataFrame({'Id': validation_data['Id'], 'Expensive': y_validation_pred})"
   ]
  },
  {
   "cell_type": "code",
   "execution_count": 91,
   "metadata": {},
   "outputs": [],
   "source": [
    "knn_df = pd.DataFrame({'Id': validation_data['Id'], 'Expensive': y_knn_validation_pred})"
   ]
  },
  {
   "cell_type": "code",
   "execution_count": 92,
   "metadata": {},
   "outputs": [],
   "source": [
    "knn_df.to_csv('knn_csv', index=False)"
   ]
  },
  {
   "cell_type": "code",
   "execution_count": 93,
   "metadata": {},
   "outputs": [
    {
     "data": {
      "text/html": [
       "<div>\n",
       "<style scoped>\n",
       "    .dataframe tbody tr th:only-of-type {\n",
       "        vertical-align: middle;\n",
       "    }\n",
       "\n",
       "    .dataframe tbody tr th {\n",
       "        vertical-align: top;\n",
       "    }\n",
       "\n",
       "    .dataframe thead th {\n",
       "        text-align: right;\n",
       "    }\n",
       "</style>\n",
       "<table border=\"1\" class=\"dataframe\">\n",
       "  <thead>\n",
       "    <tr style=\"text-align: right;\">\n",
       "      <th></th>\n",
       "      <th>Id</th>\n",
       "      <th>Expensive</th>\n",
       "    </tr>\n",
       "  </thead>\n",
       "  <tbody>\n",
       "    <tr>\n",
       "      <th>0</th>\n",
       "      <td>1461</td>\n",
       "      <td>0</td>\n",
       "    </tr>\n",
       "    <tr>\n",
       "      <th>1</th>\n",
       "      <td>1462</td>\n",
       "      <td>0</td>\n",
       "    </tr>\n",
       "    <tr>\n",
       "      <th>2</th>\n",
       "      <td>1463</td>\n",
       "      <td>0</td>\n",
       "    </tr>\n",
       "    <tr>\n",
       "      <th>3</th>\n",
       "      <td>1464</td>\n",
       "      <td>0</td>\n",
       "    </tr>\n",
       "    <tr>\n",
       "      <th>4</th>\n",
       "      <td>1465</td>\n",
       "      <td>0</td>\n",
       "    </tr>\n",
       "    <tr>\n",
       "      <th>...</th>\n",
       "      <td>...</td>\n",
       "      <td>...</td>\n",
       "    </tr>\n",
       "    <tr>\n",
       "      <th>1454</th>\n",
       "      <td>2915</td>\n",
       "      <td>0</td>\n",
       "    </tr>\n",
       "    <tr>\n",
       "      <th>1455</th>\n",
       "      <td>2916</td>\n",
       "      <td>0</td>\n",
       "    </tr>\n",
       "    <tr>\n",
       "      <th>1456</th>\n",
       "      <td>2917</td>\n",
       "      <td>0</td>\n",
       "    </tr>\n",
       "    <tr>\n",
       "      <th>1457</th>\n",
       "      <td>2918</td>\n",
       "      <td>0</td>\n",
       "    </tr>\n",
       "    <tr>\n",
       "      <th>1458</th>\n",
       "      <td>2919</td>\n",
       "      <td>0</td>\n",
       "    </tr>\n",
       "  </tbody>\n",
       "</table>\n",
       "<p>1459 rows × 2 columns</p>\n",
       "</div>"
      ],
      "text/plain": [
       "        Id  Expensive\n",
       "0     1461          0\n",
       "1     1462          0\n",
       "2     1463          0\n",
       "3     1464          0\n",
       "4     1465          0\n",
       "...    ...        ...\n",
       "1454  2915          0\n",
       "1455  2916          0\n",
       "1456  2917          0\n",
       "1457  2918          0\n",
       "1458  2919          0\n",
       "\n",
       "[1459 rows x 2 columns]"
      ]
     },
     "execution_count": 93,
     "metadata": {},
     "output_type": "execute_result"
    }
   ],
   "source": [
    "knn_df"
   ]
  },
  {
   "cell_type": "code",
   "execution_count": 68,
   "metadata": {},
   "outputs": [],
   "source": [
    "#df to csv\n",
    "# submission_df.to_csv('submission.csv', index=False)"
   ]
  },
  {
   "cell_type": "code",
   "execution_count": 69,
   "metadata": {},
   "outputs": [
    {
     "data": {
      "text/html": [
       "<div>\n",
       "<style scoped>\n",
       "    .dataframe tbody tr th:only-of-type {\n",
       "        vertical-align: middle;\n",
       "    }\n",
       "\n",
       "    .dataframe tbody tr th {\n",
       "        vertical-align: top;\n",
       "    }\n",
       "\n",
       "    .dataframe thead th {\n",
       "        text-align: right;\n",
       "    }\n",
       "</style>\n",
       "<table border=\"1\" class=\"dataframe\">\n",
       "  <thead>\n",
       "    <tr style=\"text-align: right;\">\n",
       "      <th></th>\n",
       "      <th>Id</th>\n",
       "      <th>Expensive</th>\n",
       "    </tr>\n",
       "  </thead>\n",
       "  <tbody>\n",
       "    <tr>\n",
       "      <th>0</th>\n",
       "      <td>1461</td>\n",
       "      <td>0</td>\n",
       "    </tr>\n",
       "    <tr>\n",
       "      <th>1</th>\n",
       "      <td>1462</td>\n",
       "      <td>0</td>\n",
       "    </tr>\n",
       "    <tr>\n",
       "      <th>2</th>\n",
       "      <td>1463</td>\n",
       "      <td>0</td>\n",
       "    </tr>\n",
       "    <tr>\n",
       "      <th>3</th>\n",
       "      <td>1464</td>\n",
       "      <td>0</td>\n",
       "    </tr>\n",
       "    <tr>\n",
       "      <th>4</th>\n",
       "      <td>1465</td>\n",
       "      <td>0</td>\n",
       "    </tr>\n",
       "    <tr>\n",
       "      <th>...</th>\n",
       "      <td>...</td>\n",
       "      <td>...</td>\n",
       "    </tr>\n",
       "    <tr>\n",
       "      <th>1454</th>\n",
       "      <td>2915</td>\n",
       "      <td>0</td>\n",
       "    </tr>\n",
       "    <tr>\n",
       "      <th>1455</th>\n",
       "      <td>2916</td>\n",
       "      <td>0</td>\n",
       "    </tr>\n",
       "    <tr>\n",
       "      <th>1456</th>\n",
       "      <td>2917</td>\n",
       "      <td>1</td>\n",
       "    </tr>\n",
       "    <tr>\n",
       "      <th>1457</th>\n",
       "      <td>2918</td>\n",
       "      <td>0</td>\n",
       "    </tr>\n",
       "    <tr>\n",
       "      <th>1458</th>\n",
       "      <td>2919</td>\n",
       "      <td>0</td>\n",
       "    </tr>\n",
       "  </tbody>\n",
       "</table>\n",
       "<p>1459 rows × 2 columns</p>\n",
       "</div>"
      ],
      "text/plain": [
       "        Id  Expensive\n",
       "0     1461          0\n",
       "1     1462          0\n",
       "2     1463          0\n",
       "3     1464          0\n",
       "4     1465          0\n",
       "...    ...        ...\n",
       "1454  2915          0\n",
       "1455  2916          0\n",
       "1456  2917          1\n",
       "1457  2918          0\n",
       "1458  2919          0\n",
       "\n",
       "[1459 rows x 2 columns]"
      ]
     },
     "execution_count": 69,
     "metadata": {},
     "output_type": "execute_result"
    }
   ],
   "source": [
    "submission_df"
   ]
  }
 ],
 "metadata": {
  "kernelspec": {
   "display_name": "base",
   "language": "python",
   "name": "python3"
  },
  "language_info": {
   "codemirror_mode": {
    "name": "ipython",
    "version": 3
   },
   "file_extension": ".py",
   "mimetype": "text/x-python",
   "name": "python",
   "nbconvert_exporter": "python",
   "pygments_lexer": "ipython3",
   "version": "3.9.13"
  },
  "orig_nbformat": 4
 },
 "nbformat": 4,
 "nbformat_minor": 2
}
